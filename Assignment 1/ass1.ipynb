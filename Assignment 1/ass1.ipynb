{
 "cells": [
  {
   "cell_type": "code",
   "execution_count": 1,
   "metadata": {},
   "outputs": [],
   "source": [
    "import matplotlib.pyplot as plt\n",
    "import numpy as np\n",
    "import pandas as pd\n",
    "from tqdm import tqdm"
   ]
  },
  {
   "cell_type": "code",
   "execution_count": 2,
   "metadata": {},
   "outputs": [
    {
     "data": {
      "text/html": [
       "<div>\n",
       "<style scoped>\n",
       "    .dataframe tbody tr th:only-of-type {\n",
       "        vertical-align: middle;\n",
       "    }\n",
       "\n",
       "    .dataframe tbody tr th {\n",
       "        vertical-align: top;\n",
       "    }\n",
       "\n",
       "    .dataframe thead th {\n",
       "        text-align: right;\n",
       "    }\n",
       "</style>\n",
       "<table border=\"1\" class=\"dataframe\">\n",
       "  <thead>\n",
       "    <tr style=\"text-align: right;\">\n",
       "      <th></th>\n",
       "      <th>food</th>\n",
       "      <th>decor</th>\n",
       "      <th>service</th>\n",
       "      <th>price</th>\n",
       "    </tr>\n",
       "  </thead>\n",
       "  <tbody>\n",
       "    <tr>\n",
       "      <th>0</th>\n",
       "      <td>18.0</td>\n",
       "      <td>22.0</td>\n",
       "      <td>17.0</td>\n",
       "      <td>41.0</td>\n",
       "    </tr>\n",
       "    <tr>\n",
       "      <th>1</th>\n",
       "      <td>24.0</td>\n",
       "      <td>22.0</td>\n",
       "      <td>22.0</td>\n",
       "      <td>54.0</td>\n",
       "    </tr>\n",
       "    <tr>\n",
       "      <th>2</th>\n",
       "      <td>18.0</td>\n",
       "      <td>17.0</td>\n",
       "      <td>14.0</td>\n",
       "      <td>32.0</td>\n",
       "    </tr>\n",
       "    <tr>\n",
       "      <th>3</th>\n",
       "      <td>18.0</td>\n",
       "      <td>9.0</td>\n",
       "      <td>13.0</td>\n",
       "      <td>20.0</td>\n",
       "    </tr>\n",
       "    <tr>\n",
       "      <th>4</th>\n",
       "      <td>21.0</td>\n",
       "      <td>12.0</td>\n",
       "      <td>16.0</td>\n",
       "      <td>25.0</td>\n",
       "    </tr>\n",
       "    <tr>\n",
       "      <th>...</th>\n",
       "      <td>...</td>\n",
       "      <td>...</td>\n",
       "      <td>...</td>\n",
       "      <td>...</td>\n",
       "    </tr>\n",
       "    <tr>\n",
       "      <th>109</th>\n",
       "      <td>20.0</td>\n",
       "      <td>21.0</td>\n",
       "      <td>18.0</td>\n",
       "      <td>40.0</td>\n",
       "    </tr>\n",
       "    <tr>\n",
       "      <th>110</th>\n",
       "      <td>18.0</td>\n",
       "      <td>14.0</td>\n",
       "      <td>16.0</td>\n",
       "      <td>30.0</td>\n",
       "    </tr>\n",
       "    <tr>\n",
       "      <th>111</th>\n",
       "      <td>17.0</td>\n",
       "      <td>17.0</td>\n",
       "      <td>18.0</td>\n",
       "      <td>34.0</td>\n",
       "    </tr>\n",
       "    <tr>\n",
       "      <th>112</th>\n",
       "      <td>20.0</td>\n",
       "      <td>22.0</td>\n",
       "      <td>21.0</td>\n",
       "      <td>51.0</td>\n",
       "    </tr>\n",
       "    <tr>\n",
       "      <th>113</th>\n",
       "      <td>19.0</td>\n",
       "      <td>14.0</td>\n",
       "      <td>15.0</td>\n",
       "      <td>23.0</td>\n",
       "    </tr>\n",
       "  </tbody>\n",
       "</table>\n",
       "<p>114 rows × 4 columns</p>\n",
       "</div>"
      ],
      "text/plain": [
       "     food  decor  service  price\n",
       "0    18.0   22.0     17.0   41.0\n",
       "1    24.0   22.0     22.0   54.0\n",
       "2    18.0   17.0     14.0   32.0\n",
       "3    18.0    9.0     13.0   20.0\n",
       "4    21.0   12.0     16.0   25.0\n",
       "..    ...    ...      ...    ...\n",
       "109  20.0   21.0     18.0   40.0\n",
       "110  18.0   14.0     16.0   30.0\n",
       "111  17.0   17.0     18.0   34.0\n",
       "112  20.0   22.0     21.0   51.0\n",
       "113  19.0   14.0     15.0   23.0\n",
       "\n",
       "[114 rows x 4 columns]"
      ]
     },
     "metadata": {},
     "output_type": "display_data"
    }
   ],
   "source": [
    "data = pd.read_csv(\"restaurent.csv\")\n",
    "display(data)"
   ]
  },
  {
   "cell_type": "code",
   "execution_count": 3,
   "metadata": {},
   "outputs": [],
   "source": [
    "l = data.sample(50)"
   ]
  },
  {
   "cell_type": "code",
   "execution_count": 4,
   "metadata": {},
   "outputs": [
    {
     "data": {
      "image/png": "[encoded data removed]",
      "text/plain": [
       "<Figure size 432x288 with 1 Axes>"
      ]
     },
     "metadata": {
      "needs_background": "light"
     },
     "output_type": "display_data"
    }
   ],
   "source": [
    "plt.scatter(l['food'],l['price'])\n",
    "plt.show()"
   ]
  },
  {
   "cell_type": "code",
   "execution_count": 5,
   "metadata": {},
   "outputs": [
    {
     "data": {
      "image/png": "[encoded data removed]",
      "text/plain": [
       "<Figure size 432x288 with 1 Axes>"
      ]
     },
     "metadata": {
      "needs_background": "light"
     },
     "output_type": "display_data"
    }
   ],
   "source": [
    "plt.scatter(l['service'],l['price'])\n",
    "plt.show()"
   ]
  },
  {
   "cell_type": "code",
   "execution_count": 6,
   "metadata": {},
   "outputs": [
    {
     "data": {
      "image/png": "[encoded data removed]",
      "text/plain": [
       "<Figure size 432x288 with 1 Axes>"
      ]
     },
     "metadata": {
      "needs_background": "light"
     },
     "output_type": "display_data"
    }
   ],
   "source": [
    "plt.scatter(l['decor'],l['price'])\n",
    "plt.show()"
   ]
  },
  {
   "cell_type": "code",
   "execution_count": 7,
   "metadata": {},
   "outputs": [],
   "source": [
    "# function for pre-processing the data\n",
    "def pre_process(data, train=True, val_split=0.8, seed=1234):\n",
    "    # remove the NaN values from data\n",
    "    for i in range(data.shape[1]):\n",
    "        data = data.iloc[data.iloc[:, i].notna().to_numpy()]\n",
    "    if train:\n",
    "        data = data.iloc[:, 1:] # exclude the \"Id\" column\n",
    "        np.random.seed(seed)\n",
    "        split = val_split\n",
    "        indices = np.arange(data.shape[0])  \n",
    "        np.random.shuffle(indices)  # shuffle indices for validation split\n",
    "        mu = data.iloc[:, :-1].mean(0)  # calculate mean\n",
    "        sigma = data.iloc[:, :-1].std(0)    # calculate std\n",
    "        # split the train and validation sets\n",
    "        X_train, y_train, X_val, y_val = data.iloc[indices[:int(split*len(indices))], :-1], data.iloc[indices[:int(split*len(indices))], -1], data.iloc[indices[int(split*len(indices)):], :-1], data.iloc[indices[int(split*len(indices)):], -1]   \n",
    "\n",
    "        X_train -= mu\n",
    "        X_train /= sigma    # normalize the train set\n",
    "        X_val -= mu\n",
    "        X_val /= sigma  # normalize the validation set\n",
    "        X_train = np.c_[np.ones(len(X_train),dtype='int64'), X_train.to_numpy()]    # append 1s to the features in train set\n",
    "        X_val = np.c_[np.ones(len(X_val),dtype='int64'), X_val.to_numpy()]  # append 1s to the features in validation set\n",
    "        \n",
    "        print(f'\\nTraining Size: {X_train.shape[0]}')\n",
    "        print(f'Validation Size: {X_val.shape[0]}')\n",
    "        print(f'Number of features: {X_train.shape[1]}')\n",
    "\n",
    "        return X_train, y_train.to_numpy(), X_val, y_val.to_numpy()\n",
    "\n",
    "    else:\n",
    "        data = data.iloc[:, 1:] # exclude the \"Id\" column\n",
    "        mu = data.mean(0)   # calculate mean\n",
    "        sigma = data.std(0) # calculate std\n",
    "        X_test = data\n",
    "        X_test -= mu\n",
    "        X_test /= sigma # normalize the test set\n",
    "        X_test = np.c_[np.ones(len(X_test),dtype='int64'), X_test.to_numpy()]    # append 1s to the features in test set\n",
    "        \n",
    "        print(f'Testing Size: {X_test.shape[0]}')\n",
    "        return X_test"
   ]
  },
  {
   "cell_type": "code",
   "execution_count": 8,
   "metadata": {},
   "outputs": [],
   "source": [
    "class LinReg:\n",
    "    '''\n",
    "    Linear Regression Model\n",
    "    '''\n",
    "    def __init__(self):\n",
    "        # place_holders\n",
    "        self.coeffs = None\n",
    "        self.alpha = 0.1\n",
    "        self.iterations = 100\n",
    "        self.train_loss = []\n",
    "\n",
    "    def train(self, X, y):\n",
    "        # train using batch gradient descent\n",
    "        self.train_loss.append(self.criterion(X, y))    # append initial loss\n",
    "        for t in tqdm(range(self.iterations)):\n",
    "            gradient = np.dot(X.T, (np.dot(X, self.coeffs) - y)) / len(y)   # compute gradient of cost function\n",
    "            self.coeffs -= self.alpha * gradient    # update weights\n",
    "            loss = self.criterion(X, y) # compute loss\n",
    "            self.train_loss.append(loss)    # append loss\n",
    "    \n",
    "    def fit(self, X, y, alpha=0.1, ITERATIONS=100, coeffs=None):\n",
    "        # main function of linear regression\n",
    "        if coeffs == None:\n",
    "            self.coeffs = np.zeros(X.shape[1])  # initalise coefficients to zeros\n",
    "        else:\n",
    "            self.coeffs = coeffs\n",
    "        self.alpha = alpha  # learning rate\n",
    "        self.iterations = ITERATIONS    # number of iterations\n",
    "        self.train(X, y)    # train\n",
    "\n",
    "    def predict(self, X, do_print=True):\n",
    "        # predict the sale price using computed weights\n",
    "        if do_print:\n",
    "            print(np.dot(X, self.coeffs))\n",
    "        else:\n",
    "            return np.dot(X, self.coeffs)\n",
    "\n",
    "    def criterion(self, X, y):\n",
    "        # cost function\n",
    "        return np.sum((X.dot(self.coeffs) - y) ** 2) / (2 * len(y))\n",
    "    \n",
    "    def score(self, X, target):\n",
    "        # computing r^2 (coefficient)\n",
    "        predictions = self.predict(X, do_print=False)   # get predictions\n",
    "        tss = np.sum((target - target.mean()) ** 2) # total sum of squares\n",
    "        rss = np.sum((predictions - target) ** 2)   # residual sum of squares\n",
    "        r2 = 1 - (rss/tss)  # r^2 coefficient\n",
    "        print(f'\\n{r2}')\n",
    "    \n",
    "    def mse(self, X, target):\n",
    "        # computing normalised mean squared error\n",
    "        predictions = self.predict(X, do_print=False)   # get predictions\n",
    "        mse = (predictions - target) ** 2   # sqaured errors\n",
    "        mse = np.sum(mse) / (len(target) * np.max(mse)) # sum squared errors / len(y) * max(error)\n",
    "        print(mse)\n",
    "    \n",
    "    def get_params(self):\n",
    "        # get weights and loss\n",
    "        return self.coeffs, self.train_loss"
   ]
  },
  {
   "cell_type": "code",
   "execution_count": 9,
   "metadata": {},
   "outputs": [
    {
     "name": "stdout",
     "output_type": "stream",
     "text": [
      "\n",
      "Training Size: 40\n",
      "Validation Size: 10\n",
      "Number of features: 3\n"
     ]
    }
   ],
   "source": [
    "X_train, y_train, X_val, y_val = pre_process(l)"
   ]
  },
  {
   "cell_type": "code",
   "execution_count": 10,
   "metadata": {},
   "outputs": [
    {
     "name": "stderr",
     "output_type": "stream",
     "text": [
      "100%|██████████| 100/100 [00:00<00:00, 50424.43it/s]"
     ]
    },
    {
     "name": "stdout",
     "output_type": "stream",
     "text": [
      "\n",
      "0.493988635286043\n",
      "0.33642610591725525\n"
     ]
    },
    {
     "name": "stderr",
     "output_type": "stream",
     "text": [
      "\n"
     ]
    }
   ],
   "source": [
    "lr = LinReg()\n",
    "lr.fit(X_train, y_train)\n",
    "coeffs, losses = lr.get_params()\n",
    "lr.score(X_val,y_val)\n",
    "lr.mse(X_val,y_val)"
   ]
  },
  {
   "cell_type": "code",
   "execution_count": 11,
   "metadata": {},
   "outputs": [
    {
     "name": "stdout",
     "output_type": "stream",
     "text": [
      "[33.04658725  6.16004022  4.81495551]\n"
     ]
    }
   ],
   "source": [
    "print(coeffs)"
   ]
  },
  {
   "cell_type": "code",
   "execution_count": 12,
   "metadata": {},
   "outputs": [
    {
     "name": "stdout",
     "output_type": "stream",
     "text": [
      "6318.472570345609\n"
     ]
    }
   ],
   "source": [
    "lr.predict(np.array([125,148,265]))"
   ]
  }
 ],
 "metadata": {
  "interpreter": {
   "hash": "d406864f2ee78ecc67afccccd0a48c216f41ca3a0f9ca739a0b9d8b15ae422ba"
  },
  "kernelspec": {
   "display_name": "Python 3.10.2 64-bit",
   "language": "python",
   "name": "python3"
  },
  "language_info": {
   "codemirror_mode": {
    "name": "ipython",
    "version": 3
   },
   "file_extension": ".py",
   "mimetype": "text/x-python",
   "name": "python",
   "nbconvert_exporter": "python",
   "pygments_lexer": "ipython3",
   "version": "3.10.2"
  },
  "orig_nbformat": 4
 },
 "nbformat": 4,
 "nbformat_minor": 2
}
