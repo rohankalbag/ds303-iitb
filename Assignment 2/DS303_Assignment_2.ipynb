{
  "cells": [
    {
      "cell_type": "markdown",
      "metadata": {},
      "source": [
        "# DS 303 Assignment 2\n",
        "\n",
        "## Name: Rohan Rajesh Kalbag\n",
        "### Roll no: 20D170033"
      ]
    },
    {
      "cell_type": "markdown",
      "metadata": {
        "id": "wR6u-idYiBBW"
      },
      "source": [
        "# (1) Importing the **CIFAR10** dataset"
      ]
    },
    {
      "cell_type": "code",
      "execution_count": 1,
      "metadata": {
        "id": "SdpxYXiNhi9m"
      },
      "outputs": [],
      "source": [
        "import tensorflow as tf\n",
        "# load the CIFAR10 dataset from tensorflow datasets\n",
        "(x_train, y_train), (x_test, y_test) = tf.keras.datasets.cifar10.load_data()"
      ]
    },
    {
      "cell_type": "code",
      "execution_count": 2,
      "metadata": {
        "colab": {
          "base_uri": "https://localhost:8080/"
        },
        "id": "hSRGtQfcibVQ",
        "outputId": "dbc21f5a-bd9c-43c8-e162-fef0c71e3df4"
      },
      "outputs": [
        {
          "name": "stdout",
          "output_type": "stream",
          "text": [
            "(50000, 32, 32, 3)\n",
            "(10000, 32, 32, 3)\n",
            "(50000, 1)\n",
            "(10000, 1)\n"
          ]
        }
      ],
      "source": [
        "#printing the shapes of the datasets to see the nature of data\n",
        "print(x_train.shape)\n",
        "print(x_test.shape)\n",
        "print(y_train.shape)\n",
        "print(y_test.shape)"
      ]
    },
    {
      "cell_type": "markdown",
      "metadata": {
        "id": "ZhGqA7pkmR30"
      },
      "source": [
        "## To concatenate the default test and train splits"
      ]
    },
    {
      "cell_type": "code",
      "execution_count": 3,
      "metadata": {
        "colab": {
          "base_uri": "https://localhost:8080/"
        },
        "id": "BL1EnVmSl019",
        "outputId": "99063afe-c350-4b1c-82dc-268de13e184f"
      },
      "outputs": [
        {
          "name": "stdout",
          "output_type": "stream",
          "text": [
            "(60000, 32, 32, 3)\n",
            "(60000, 1)\n"
          ]
        }
      ],
      "source": [
        "import numpy as np\n",
        "x_values = np.concatenate([x_train,x_test], axis=0)\n",
        "y_values = np.concatenate([y_train,y_test], axis=0)\n",
        "#concatenating all the existing values to resplit again later\n",
        "print(x_values.shape)\n",
        "print(y_values.shape)"
      ]
    },
    {
      "cell_type": "markdown",
      "metadata": {
        "id": "m4I9nFrKkCZ1"
      },
      "source": [
        "## (2) To convert to grayscale\n",
        "\n",
        "- We are using the [luminosity method](https://en.wikipedia.org/wiki/Grayscale)"
      ]
    },
    {
      "cell_type": "code",
      "execution_count": 4,
      "metadata": {
        "colab": {
          "base_uri": "https://localhost:8080/"
        },
        "id": "vIO8iP9ginS4",
        "outputId": "0f6dc697-d252-4fd6-eeea-9181e7e194cf"
      },
      "outputs": [
        {
          "name": "stdout",
          "output_type": "stream",
          "text": [
            "(60000, 32, 32)\n"
          ]
        }
      ],
      "source": [
        "'''To matrix multiply X with w where w = [0.229 0.587 0.114] which correspond to grayscale shown\n",
        "as a linear combination of R G and B'''\n",
        "x_values = np.dot(x_values, np.array([0.299 , 0.587, 0.114]))\n",
        "print(x_values.shape)"
      ]
    },
    {
      "cell_type": "markdown",
      "metadata": {
        "id": "R9aOaMd6oRRk"
      },
      "source": [
        "## (3) We perform a 80:20 split. Since the data was already given in a random fashion we just index the data in the ratio 80:20"
      ]
    },
    {
      "cell_type": "code",
      "execution_count": 5,
      "metadata": {
        "colab": {
          "base_uri": "https://localhost:8080/"
        },
        "id": "4uvp0ueUokXH",
        "outputId": "04f0c903-16f3-462e-ea98-b80b8c0c363e"
      },
      "outputs": [
        {
          "name": "stdout",
          "output_type": "stream",
          "text": [
            "48000 12000\n"
          ]
        }
      ],
      "source": [
        "print(int(0.8*x_values.shape[0]),int(0.2*x_values.shape[0])) # The lengths of train and test for 80:20 split"
      ]
    },
    {
      "cell_type": "markdown",
      "metadata": {},
      "source": [
        "Splitting the dataset into test and train."
      ]
    },
    {
      "cell_type": "code",
      "execution_count": 6,
      "metadata": {
        "colab": {
          "base_uri": "https://localhost:8080/"
        },
        "id": "KLljFo5Hm259",
        "outputId": "d318c9b1-19c6-4aba-efa5-a96ded34da79"
      },
      "outputs": [
        {
          "name": "stdout",
          "output_type": "stream",
          "text": [
            "(48000, 32, 32)\n",
            "(12000, 32, 32)\n",
            "(48000, 1)\n",
            "(12000, 1)\n"
          ]
        }
      ],
      "source": [
        "X_train = x_values[:48000,:,:]\n",
        "print(X_train.shape)\n",
        "X_test = x_values[48000:,:,:]\n",
        "print(X_test.shape)\n",
        "Y_train = y_values[:48000,:]\n",
        "Y_test = y_values[48000:,:]\n",
        "print(Y_train.shape)\n",
        "print(Y_test.shape)"
      ]
    },
    {
      "cell_type": "markdown",
      "metadata": {
        "id": "cgNS7GJpsZG9"
      },
      "source": [
        "## To check if everything till now is perfect\n",
        "The subsequent code displays the labels and images for the first nine images in X_train"
      ]
    },
    {
      "cell_type": "code",
      "execution_count": 7,
      "metadata": {
        "colab": {
          "base_uri": "https://localhost:8080/",
          "height": 591
        },
        "id": "fg5IayVMpT20",
        "outputId": "fa151185-c11d-45b1-ce90-b42470ad9d6e"
      },
      "outputs": [
        {
          "data": {
            "image/png": "[encoded data removed]",
            "text/plain": [
              "<Figure size 720x720 with 9 Axes>"
            ]
          },
          "metadata": {
            "needs_background": "light"
          },
          "output_type": "display_data"
        }
      ],
      "source": [
        "import matplotlib.pyplot as plt\n",
        "plt.figure(figsize=(10, 10))\n",
        "for i in range(9):\n",
        "  ax = plt.subplot(3, 3, i + 1)\n",
        "  plt.imshow(X_train[i])\n",
        "  plt.title(Y_train[i][0])\n",
        "  plt.axis(\"off\")"
      ]
    },
    {
      "cell_type": "markdown",
      "metadata": {
        "id": "yKwkO0U3wkog"
      },
      "source": [
        "# (4) Flattening the X features\n",
        "\n",
        "We reshape the (48000,32,32) arrays into (48000,1024), basically flattening the images into an array of 1024 pixels"
      ]
    },
    {
      "cell_type": "code",
      "execution_count": 8,
      "metadata": {
        "colab": {
          "base_uri": "https://localhost:8080/"
        },
        "id": "pLBBzNI-ussL",
        "outputId": "29c06fae-bf05-49c1-e241-89e7b273a20d"
      },
      "outputs": [
        {
          "name": "stdout",
          "output_type": "stream",
          "text": [
            "(48000, 1024)\n",
            "(12000, 1024)\n"
          ]
        }
      ],
      "source": [
        "X_train_flattened = X_train.reshape((48000,32*32))\n",
        "print(X_train_flattened.shape)\n",
        "X_test_flattened = X_test.reshape((12000,32*32))\n",
        "print(X_test_flattened.shape)"
      ]
    },
    {
      "cell_type": "markdown",
      "metadata": {},
      "source": [
        "# Splitting the data into classes\n",
        "\n",
        "We seperate the train data classwise on the basis of the value of y"
      ]
    },
    {
      "cell_type": "code",
      "execution_count": 9,
      "metadata": {},
      "outputs": [
        {
          "name": "stdout",
          "output_type": "stream",
          "text": [
            "(4803, 1024)\n",
            "(4798, 1024)\n",
            "(4813, 1024)\n",
            "(4786, 1024)\n",
            "(4828, 1024)\n",
            "(4802, 1024)\n",
            "(4796, 1024)\n",
            "(4799, 1024)\n",
            "(4785, 1024)\n",
            "(4790, 1024)\n"
          ]
        }
      ],
      "source": [
        "X_train_classwise = []\n",
        "\n",
        "for i in range(10):\n",
        "    X_train_classwise.append(X_train_flattened[(Y_train==i).ravel(),:]) #find all the indices that have Y_train = i\n",
        "    #partition the set of X_train into its classes\n",
        "for i in X_train_classwise:\n",
        "    print(i.shape)"
      ]
    },
    {
      "cell_type": "code",
      "execution_count": 10,
      "metadata": {},
      "outputs": [
        {
          "name": "stdout",
          "output_type": "stream",
          "text": [
            "(48000, 1)\n",
            "(48000,)\n"
          ]
        }
      ],
      "source": [
        "print(Y_train.shape)\n",
        "print(Y_train.ravel().shape)"
      ]
    },
    {
      "cell_type": "markdown",
      "metadata": {
        "id": "FnU1Qc-mxXYA"
      },
      "source": [
        "- We now need to fit each pixel with a Gaussian Mixture Model\n",
        "- [Gaussian Mixture](https://scikit-learn.org/stable/modules/generated/sklearn.mixture.GaussianMixture.html#sklearn.mixture.GaussianMixture) class of sklearn (scikit-learn) library was used for this for quick implementation of the EM algorithm\n",
        "- The parameters used for the class - $\\verb|n_components = 2, max_iter=1500|$\n",
        "\n",
        "$\\verb|n_components|$ are two as we fit two Gaussians on the data, $\\verb|max_iter|$ denotes the maximum number of times EM algorithm can be applied before which a case is deemed as not convergent. The data such that we see the same result in case execution is paused in the middle for some reason."
      ]
    },
    {
      "cell_type": "code",
      "execution_count": 12,
      "metadata": {
        "colab": {
          "base_uri": "https://localhost:8080/"
        },
        "id": "cYslXXqiwMdr",
        "outputId": "2e351812-1a47-474d-b5db-15c6493623b1"
      },
      "outputs": [
        {
          "name": "stderr",
          "output_type": "stream",
          "text": [
            "100%|██████████| 1024/1024 [00:20<00:00, 50.94it/s]\n",
            "100%|██████████| 1024/1024 [00:21<00:00, 47.91it/s]\n",
            "100%|██████████| 1024/1024 [00:21<00:00, 47.27it/s]\n",
            "100%|██████████| 1024/1024 [00:21<00:00, 47.70it/s]\n",
            "100%|██████████| 1024/1024 [00:19<00:00, 51.49it/s]\n",
            "100%|██████████| 1024/1024 [00:20<00:00, 49.79it/s]\n",
            "100%|██████████| 1024/1024 [00:20<00:00, 49.95it/s]\n",
            "100%|██████████| 1024/1024 [00:20<00:00, 48.98it/s]\n",
            "100%|██████████| 1024/1024 [00:20<00:00, 50.43it/s]\n",
            "100%|██████████| 1024/1024 [00:21<00:00, 48.75it/s]\n"
          ]
        }
      ],
      "source": [
        "from sklearn.mixture import GaussianMixture\n",
        "from tqdm import tqdm\n",
        "gms = [] # create a large matrix to hold all the GaussianMixture objects\n",
        "for i in range(10): #outer loop for each class\n",
        "    gm = [] #each row of the matrix\n",
        "    for j in tqdm(range(1024)):\n",
        "        #in each pass of this loop we take all the values of the particular pixel across the training data and fit it with two gaussians\n",
        "        k = GaussianMixture(n_components=2,max_iter=1500).fit((X_train_classwise[i][j,:]).reshape(-1,1))\n",
        "        gm.append(k) #add the object to the row\n",
        "    gms.append(gm) #add the row to the large matrix"
      ]
    },
    {
      "cell_type": "markdown",
      "metadata": {},
      "source": [
        "### To see the parameters for the Gaussian Mixture Model fitted on the first pixel for the class 0"
      ]
    },
    {
      "cell_type": "code",
      "execution_count": 13,
      "metadata": {},
      "outputs": [
        {
          "name": "stdout",
          "output_type": "stream",
          "text": [
            "Weights: [0.54022134 0.45977866]\n",
            "Means: [227.9883716   55.09992146]\n",
            "Covariances: [ 376.43116049 1811.23658047]\n"
          ]
        }
      ],
      "source": [
        "testgm = gms[0][0] \n",
        "print(\"Weights:\",testgm.weights_)\n",
        "print(\"Means:\",testgm.means_.ravel()) #to display the means\n",
        "print(\"Covariances:\",testgm.covariances_.ravel())"
      ]
    },
    {
      "cell_type": "markdown",
      "metadata": {},
      "source": [
        "# (5) and (6)\n",
        "- Let $w_1,w_2,\\mu_1,\\mu_2,\\sigma_1,\\sigma_2$ denote the values obtained in the previous statement.\n",
        "- The probability $\\mathbb{P}$ that a particular pixel $x$ \n",
        "belongs to a particular class $y$ is given by\n",
        "$\\mathbb{P}(x \\in y) = w_1\\cdot f_{\\mu_1,\\sigma_1}(x) + w_2\\cdot f_{\\mu_2,\\sigma_2}(x)$\n",
        "- $f_{\\mu,\\sigma}(\\cdot)$ denotes the probability density function for a gaussian random variable\n",
        "\n",
        "- The probability that an Image is classified as y is $\\mathbb{P}(X \\in y) = \\Pi_{i=1}^{1024}\\mathbb{P}(x_i \\in y)$\n",
        "- We assign the class y on the basis of which class has the maximum probability as :  $\\hat{y} = argmax_y(\\mathbb{P}(X \\in y))$\n",
        "- Since the probabilities are small taking product is very inconvienient hence we take sum of logarithms of the probabilities"
      ]
    },
    {
      "cell_type": "code",
      "execution_count": 14,
      "metadata": {},
      "outputs": [],
      "source": [
        "from scipy.stats import norm\n",
        "\n",
        "def logprob(x, gm):\n",
        "    '''This function takes in the value of the pixel x and the Gaussian Mixture Model for that particular pixel and returns the \n",
        "    probability that the pixel belongs to the class y\n",
        "    '''\n",
        "    weights = gm.weights_\n",
        "    means = gm.means_.ravel()\n",
        "    covariances = gm.covariances_.ravel()\n",
        "    return np.log(weights[0]*norm.pdf(x,means[0],covariances[0]) + weights[1]*norm.pdf(x,means[1],covariances[1]))"
      ]
    },
    {
      "cell_type": "code",
      "execution_count": 15,
      "metadata": {},
      "outputs": [],
      "source": [
        "def predict(X):\n",
        "    '''This function predicts the labels for an input. It takes in the x values for the test data and returns the predicted\n",
        "    labels for the corresponding x values'''\n",
        "    y = [] #This contains the y values\n",
        "    for i in tqdm(range(X.shape[0])):\n",
        "        log_probs = np.array(range(10)) # This will contain the logprobabilities that the image belongs to a particular class\n",
        "        for j in range(10):\n",
        "            log_prob = 0\n",
        "            for k in range(1024):\n",
        "                this_gm = gms[j][k] # take the gaussian mixture model corresponding to the jth class and kth pixel\n",
        "                log_prob += logprob(X[i][k], this_gm) # add the log probability that the kth pixel of the ith image belongs to the jth class\n",
        "            log_probs[j] = log_prob # store this for the jth class\n",
        "        y.append(np.argmax(log_probs)) #choose the class which has the maximum logprobability\n",
        "    return y"
      ]
    },
    {
      "cell_type": "markdown",
      "metadata": {},
      "source": [
        "# Test accuracy for 1000 samples.\n",
        "As it takes an average time of 2s per iteration and can take a very long time if the entire dataset of 12000 test images is fed."
      ]
    },
    {
      "cell_type": "code",
      "execution_count": 19,
      "metadata": {},
      "outputs": [
        {
          "name": "stderr",
          "output_type": "stream",
          "text": [
            "100%|██████████| 1000/1000 [24:27<00:00,  1.47s/it]"
          ]
        },
        {
          "name": "stdout",
          "output_type": "stream",
          "text": [
            "0.101\n"
          ]
        },
        {
          "name": "stderr",
          "output_type": "stream",
          "text": [
            "\n"
          ]
        }
      ],
      "source": [
        "from sklearn.metrics import accuracy_score\n",
        "y_pred = predict(X_test_flattened[:1000])\n",
        "y_actual = Y_test[:1000]\n",
        "print(accuracy_score(y_actual,y_pred))"
      ]
    },
    {
      "cell_type": "markdown",
      "metadata": {},
      "source": [
        "### Thus we see that the model gives an accuracy of $10.1$% for classifying the CIFAR10 dataset"
      ]
    }
  ],
  "metadata": {
    "colab": {
      "collapsed_sections": [],
      "name": "DS303_Assignment_2.ipynb",
      "provenance": []
    },
    "kernelspec": {
      "display_name": "Python 3",
      "name": "python3"
    },
    "language_info": {
      "codemirror_mode": {
        "name": "ipython",
        "version": 3
      },
      "file_extension": ".py",
      "mimetype": "text/x-python",
      "name": "python",
      "nbconvert_exporter": "python",
      "pygments_lexer": "ipython3",
      "version": "3.10.2"
    }
  },
  "nbformat": 4,
  "nbformat_minor": 0
}
